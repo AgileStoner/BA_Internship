{
 "cells": [
  {
   "attachments": {},
   "cell_type": "markdown",
   "id": "87412198",
   "metadata": {},
   "source": [
    "# British Airways Reviews Scraping, Cleaning, Analysis\n",
    "\n",
    "In this notebook we are scraping, cleaning, and analyzing the data from web in order to gain some insights to the cases and experiences of the people with British Airways. This is done as part of the internship in British Airways in order to gain more hands-on experience in the field of Data Engineering, Analysis, and Science. During the process of working with data the following tools have been used:\n",
    "### Programming Language: \n",
    "- Python\n",
    "\n",
    "### Libraries: \n",
    "- BeautifulSoup\n",
    "- pandas\n",
    "- nltk\n",
    "- spaCy\n",
    "- en_core_web_sm\n",
    "- seaborn\n",
    "- matplotlib\n",
    "- scikit-learn\n",
    "- others for analytics"
   ]
  },
  {
   "attachments": {},
   "cell_type": "markdown",
   "id": "6021728b",
   "metadata": {},
   "source": [
    "---\n",
    "## Web Scraping\n",
    "\n",
    "In this part we are extracting or web scraping the data, specifically reviews of British Airways, from SkyTrax (https://www.airlinequality.com/). We have implemented it using the library BeautifulSoup, which makes it much easier to work with html templates and find the valuable content in it. "
   ]
  },
  {
   "cell_type": "code",
   "execution_count": 1,
   "id": "2d78391a",
   "metadata": {},
   "outputs": [],
   "source": [
    "import requests\n",
    "from bs4 import BeautifulSoup\n",
    "import pandas as pd\n",
    "import nltk"
   ]
  },
  {
   "cell_type": "code",
   "execution_count": 2,
   "id": "ebc53811",
   "metadata": {},
   "outputs": [],
   "source": [
    "# base url of reviews on BA\n",
    "base_url = \"https://www.airlinequality.com/airline-reviews/british-airways\""
   ]
  },
  {
   "cell_type": "code",
   "execution_count": 3,
   "id": "60ffc10c",
   "metadata": {},
   "outputs": [],
   "source": [
    "# we have 36 pages each containing 100 reviews\n",
    "pages = 36\n",
    "page_size = 100"
   ]
  },
  {
   "cell_type": "code",
   "execution_count": 4,
   "id": "b4b13ba1",
   "metadata": {},
   "outputs": [],
   "source": [
    "# list to store reviews\n",
    "reviews = []"
   ]
  },
  {
   "cell_type": "code",
   "execution_count": 5,
   "id": "3a6688be",
   "metadata": {},
   "outputs": [
    {
     "name": "stdout",
     "output_type": "stream",
     "text": [
      "Collecting data from page 1\n",
      " --->100 total reviews\n",
      "Collecting data from page 2\n",
      " --->200 total reviews\n",
      "Collecting data from page 3\n",
      " --->300 total reviews\n",
      "Collecting data from page 4\n",
      " --->400 total reviews\n",
      "Collecting data from page 5\n",
      " --->500 total reviews\n",
      "Collecting data from page 6\n",
      " --->600 total reviews\n",
      "Collecting data from page 7\n",
      " --->700 total reviews\n",
      "Collecting data from page 8\n",
      " --->800 total reviews\n",
      "Collecting data from page 9\n",
      " --->900 total reviews\n",
      "Collecting data from page 10\n",
      " --->1000 total reviews\n",
      "Collecting data from page 11\n",
      " --->1100 total reviews\n",
      "Collecting data from page 12\n",
      " --->1200 total reviews\n",
      "Collecting data from page 13\n",
      " --->1300 total reviews\n",
      "Collecting data from page 14\n",
      " --->1400 total reviews\n",
      "Collecting data from page 15\n",
      " --->1500 total reviews\n",
      "Collecting data from page 16\n",
      " --->1600 total reviews\n",
      "Collecting data from page 17\n",
      " --->1700 total reviews\n",
      "Collecting data from page 18\n",
      " --->1800 total reviews\n",
      "Collecting data from page 19\n",
      " --->1900 total reviews\n",
      "Collecting data from page 20\n",
      " --->2000 total reviews\n",
      "Collecting data from page 21\n",
      " --->2100 total reviews\n",
      "Collecting data from page 22\n",
      " --->2200 total reviews\n",
      "Collecting data from page 23\n",
      " --->2300 total reviews\n",
      "Collecting data from page 24\n",
      " --->2400 total reviews\n",
      "Collecting data from page 25\n",
      " --->2500 total reviews\n",
      "Collecting data from page 26\n",
      " --->2600 total reviews\n",
      "Collecting data from page 27\n",
      " --->2700 total reviews\n",
      "Collecting data from page 28\n",
      " --->2800 total reviews\n",
      "Collecting data from page 29\n",
      " --->2900 total reviews\n",
      "Collecting data from page 30\n",
      " --->3000 total reviews\n",
      "Collecting data from page 31\n",
      " --->3100 total reviews\n",
      "Collecting data from page 32\n",
      " --->3200 total reviews\n",
      "Collecting data from page 33\n",
      " --->3300 total reviews\n",
      "Collecting data from page 34\n",
      " --->3400 total reviews\n",
      "Collecting data from page 35\n",
      " --->3500 total reviews\n",
      "Collecting data from page 36\n",
      " --->3584 total reviews\n"
     ]
    }
   ],
   "source": [
    "for i in range(1, pages+1):\n",
    "    print(f\"Collecting data from page {i}\")\n",
    "    \n",
    "    # url to collect data from\n",
    "    # every time its updated to iterate through all the pages\n",
    "    url = f\"{base_url}/page/{i}/?sortby=post_date%3ADesc&pagesize={page_size}\"\n",
    "    # collect html data of the page\n",
    "    response = requests.get(url)\n",
    "    content = response.content\n",
    "    parsed_content = BeautifulSoup(content, 'html.parser')\n",
    "    for para in parsed_content.find_all(\"div\", {\"class\":\"text_content\"}):\n",
    "        reviews.append(para.get_text())\n",
    "    print(f\" --->{len(reviews)} total reviews\")"
   ]
  },
  {
   "attachments": {},
   "cell_type": "markdown",
   "id": "bfcff9bb",
   "metadata": {},
   "source": [
    "---\n",
    "## Forming and cleaning a Data frame\n",
    "In this part we have cleaned the data from unnecessary information such as names, different ids, stopwords, etc. We have also implemented handling negations, lemmatization, tokenization, and lowercasing the data"
   ]
  },
  {
   "cell_type": "code",
   "execution_count": 6,
   "id": "07262ac7",
   "metadata": {},
   "outputs": [
    {
     "data": {
      "text/html": [
       "<div>\n",
       "<style scoped>\n",
       "    .dataframe tbody tr th:only-of-type {\n",
       "        vertical-align: middle;\n",
       "    }\n",
       "\n",
       "    .dataframe tbody tr th {\n",
       "        vertical-align: top;\n",
       "    }\n",
       "\n",
       "    .dataframe thead th {\n",
       "        text-align: right;\n",
       "    }\n",
       "</style>\n",
       "<table border=\"1\" class=\"dataframe\">\n",
       "  <thead>\n",
       "    <tr style=\"text-align: right;\">\n",
       "      <th></th>\n",
       "      <th>review</th>\n",
       "    </tr>\n",
       "  </thead>\n",
       "  <tbody>\n",
       "    <tr>\n",
       "      <th>0</th>\n",
       "      <td>✅ Trip Verified |  The airline lost my luggage...</td>\n",
       "    </tr>\n",
       "    <tr>\n",
       "      <th>1</th>\n",
       "      <td>✅ Trip Verified |  We booked on the BA website...</td>\n",
       "    </tr>\n",
       "    <tr>\n",
       "      <th>2</th>\n",
       "      <td>✅ Trip Verified |  First time flying with BA b...</td>\n",
       "    </tr>\n",
       "    <tr>\n",
       "      <th>3</th>\n",
       "      <td>Not Verified | You can buy sandwiches and cris...</td>\n",
       "    </tr>\n",
       "    <tr>\n",
       "      <th>4</th>\n",
       "      <td>✅ Trip Verified |  This is a two-for-one revie...</td>\n",
       "    </tr>\n",
       "  </tbody>\n",
       "</table>\n",
       "</div>"
      ],
      "text/plain": [
       "                                              review\n",
       "0  ✅ Trip Verified |  The airline lost my luggage...\n",
       "1  ✅ Trip Verified |  We booked on the BA website...\n",
       "2  ✅ Trip Verified |  First time flying with BA b...\n",
       "3  Not Verified | You can buy sandwiches and cris...\n",
       "4  ✅ Trip Verified |  This is a two-for-one revie..."
      ]
     },
     "execution_count": 6,
     "metadata": {},
     "output_type": "execute_result"
    }
   ],
   "source": [
    "# Load the scraped data into a data frame\n",
    "df = pd.DataFrame(reviews, columns=['review'])\n",
    "# save the data frame as a csv file\n",
    "df.to_csv(\"british_airways_reviews.csv\", index=False)\n",
    "# print the first 5 rows of the data frame\n",
    "df.head()"
   ]
  },
  {
   "cell_type": "code",
   "execution_count": 7,
   "id": "209b30e1",
   "metadata": {},
   "outputs": [
    {
     "name": "stdout",
     "output_type": "stream",
     "text": [
      "review    0\n",
      "dtype: int64\n"
     ]
    }
   ],
   "source": [
    "# Remove duplicates\n",
    "print(df.isnull().sum())\n",
    "df.drop_duplicates(inplace=True)"
   ]
  },
  {
   "cell_type": "code",
   "execution_count": 8,
   "id": "feefbb7d",
   "metadata": {},
   "outputs": [],
   "source": [
    "# !pip install scrubadub"
   ]
  },
  {
   "cell_type": "code",
   "execution_count": 9,
   "id": "e8538651",
   "metadata": {},
   "outputs": [],
   "source": [
    "import scrubadub\n",
    "import re\n",
    "from nltk.corpus import stopwords\n",
    "\n",
    "# remove dates and time\n",
    "df['review'] = df['review'].apply(lambda x: re.sub(\"\\d{2}-\\d{2}-\\d{4}|\\d{1,2}:\\d{2}\", \"\", x))\n",
    "\n",
    "# remove special characters and punctuations\n",
    "df['review'] = df['review'].apply(lambda x: re.sub(r'[^\\w\\s]', '', x))\n",
    "\n",
    "# remove flight details and personal information with scrubadub\n",
    "df['review'] = df['review'].apply(lambda x: scrubadub.clean(x))\n",
    "\n",
    "# check if stopwords are downloaded, if not, download them\n",
    "try:\n",
    "    stop = set(stopwords.words('english'))\n",
    "except LookupError:\n",
    "    nltk.download('stopwords')\n",
    "    stop = set(stopwords.words('english'))\n",
    "\n",
    "# remove stopwords from reviews\n",
    "df['review'] = df['review'].apply(lambda x: ' '.join([word for word in x.split() if word.lower() not in (stop)]))\n",
    "\n",
    "# lowercase the reviews\n",
    "df['review'] = df['review'].apply(lambda x: x.lower())\n",
    "\n",
    "# remove reviews with missing text\n",
    "df.dropna(subset=['review'], inplace=True)\n",
    "\n",
    "# save cleaned data\n",
    "df.to_csv('cleaned_british_airways_reviews.csv', index=False)"
   ]
  },
  {
   "cell_type": "code",
   "execution_count": 10,
   "id": "343f5712",
   "metadata": {},
   "outputs": [
    {
     "data": {
      "text/html": [
       "<div>\n",
       "<style scoped>\n",
       "    .dataframe tbody tr th:only-of-type {\n",
       "        vertical-align: middle;\n",
       "    }\n",
       "\n",
       "    .dataframe tbody tr th {\n",
       "        vertical-align: top;\n",
       "    }\n",
       "\n",
       "    .dataframe thead th {\n",
       "        text-align: right;\n",
       "    }\n",
       "</style>\n",
       "<table border=\"1\" class=\"dataframe\">\n",
       "  <thead>\n",
       "    <tr style=\"text-align: right;\">\n",
       "      <th></th>\n",
       "      <th>review</th>\n",
       "    </tr>\n",
       "  </thead>\n",
       "  <tbody>\n",
       "    <tr>\n",
       "      <th>0</th>\n",
       "      <td>trip verified airline lost luggage absolutely ...</td>\n",
       "    </tr>\n",
       "    <tr>\n",
       "      <th>1</th>\n",
       "      <td>trip verified booked ba website round trip fli...</td>\n",
       "    </tr>\n",
       "    <tr>\n",
       "      <th>2</th>\n",
       "      <td>trip verified first time flying ba business cl...</td>\n",
       "    </tr>\n",
       "    <tr>\n",
       "      <th>3</th>\n",
       "      <td>verified buy sandwiches crisps dont expect hot...</td>\n",
       "    </tr>\n",
       "    <tr>\n",
       "      <th>4</th>\n",
       "      <td>trip verified twoforone review covering econom...</td>\n",
       "    </tr>\n",
       "  </tbody>\n",
       "</table>\n",
       "</div>"
      ],
      "text/plain": [
       "                                              review\n",
       "0  trip verified airline lost luggage absolutely ...\n",
       "1  trip verified booked ba website round trip fli...\n",
       "2  trip verified first time flying ba business cl...\n",
       "3  verified buy sandwiches crisps dont expect hot...\n",
       "4  trip verified twoforone review covering econom..."
      ]
     },
     "execution_count": 10,
     "metadata": {},
     "output_type": "execute_result"
    }
   ],
   "source": [
    "df.head()"
   ]
  },
  {
   "attachments": {},
   "cell_type": "markdown",
   "id": "10e1f32c",
   "metadata": {},
   "source": [
    "# Data Analysis"
   ]
  },
  {
   "cell_type": "code",
   "execution_count": 11,
   "id": "d9000220",
   "metadata": {},
   "outputs": [],
   "source": [
    "import matplotlib.pyplot as plt\n",
    "import seaborn as sns"
   ]
  },
  {
   "attachments": {},
   "cell_type": "markdown",
   "id": "35a2d2ef",
   "metadata": {},
   "source": [
    "### Plotting the most frequent words"
   ]
  },
  {
   "cell_type": "code",
   "execution_count": 12,
   "id": "3b171a93",
   "metadata": {},
   "outputs": [
    {
     "data": {
      "image/png": "[encoded data removed]",
      "text/plain": [
       "<Figure size 1000x600 with 1 Axes>"
      ]
     },
     "metadata": {},
     "output_type": "display_data"
    }
   ],
   "source": [
    "# plot the top 20 most frequent words in the reviews using histogram\n",
    "plt.figure(figsize=(10,6))\n",
    "df['review'].str.split(expand=True).stack().value_counts()[:20].plot(kind='bar')\n",
    "plt.title(\"Top 20 most frequent words in the reviews\")\n",
    "plt.xlabel(\"Words\")\n",
    "plt.ylabel(\"Frequency\")\n",
    "plt.show()"
   ]
  },
  {
   "attachments": {},
   "cell_type": "markdown",
   "id": "78aafb4b",
   "metadata": {},
   "source": [
    "Based on the analysis of the bar chart of the most frequent words in the data frame, it appears that the chart does not provide significant valuable insights into the reviews beyond confirming the known topic of the reviews being related to flights and British Airways. The analysis indicates that the reviews mention keywords such as flights, British Airways, time, service, trips, seats, staff, airport, food, and crew.\n",
    "\n",
    "While the presence of words like \"time\" may suggest potential issues such as delays or cancellations, it is important to note that this is merely a conjecture and cannot be confirmed with certainty without further analysis or examining the actual reviews. The frequent mention of service, trips, seats, staff, airport, food, and crew provides some insight into the specific aspects of the travel experience that people are focusing on in their reviews. However, this information alone does not provide the specific details or sentiments associated with these aspects.\n",
    "\n",
    "To gain more meaningful insights from the reviews, it would be necessary to conduct a deeper analysis, such as sentiment analysis, topic modeling, or extracting key phrases or topics from the text. These techniques would help uncover the sentiments expressed towards specific aspects of the airline experience, identify recurring themes, and provide more actionable insights for British Airways."
   ]
  },
  {
   "attachments": {},
   "cell_type": "markdown",
   "id": "d741aac3",
   "metadata": {},
   "source": [
    "### Creating a column of sentiment"
   ]
  },
  {
   "cell_type": "code",
   "execution_count": 13,
   "id": "1b320323",
   "metadata": {},
   "outputs": [],
   "source": [
    "# !pip install textblob"
   ]
  },
  {
   "cell_type": "code",
   "execution_count": 14,
   "id": "9ad0d673",
   "metadata": {},
   "outputs": [],
   "source": [
    "from textblob import TextBlob"
   ]
  },
  {
   "cell_type": "code",
   "execution_count": 15,
   "id": "5fb18b53",
   "metadata": {},
   "outputs": [],
   "source": [
    "def sentiment_analysis(text):\n",
    "    analysis = TextBlob(text)\n",
    "    polarity = analysis.sentiment.polarity\n",
    "    return polarity"
   ]
  },
  {
   "cell_type": "code",
   "execution_count": 16,
   "id": "dec6b298",
   "metadata": {},
   "outputs": [],
   "source": [
    "df['sentiment'] = df['review'].apply(sentiment_analysis)"
   ]
  },
  {
   "cell_type": "code",
   "execution_count": 17,
   "id": "2a92bc5b",
   "metadata": {},
   "outputs": [],
   "source": [
    "df.head()\n",
    "# save the data frame as a csv file\n",
    "df.to_csv(\"sentiment_british_airways_reviews.csv\", index=False)"
   ]
  },
  {
   "cell_type": "code",
   "execution_count": 18,
   "id": "e777fdad",
   "metadata": {},
   "outputs": [],
   "source": [
    "# add column with verification status of the review. if the review starts with the word \"trip\", it is verified and 1 must be assigned to the column, otherwise 0\n",
    "df['verified'] = df['review'].apply(lambda x: 1 if x.startswith('trip') else 0)\n",
    "df.to_csv(\"sentiment_british_airways_reviews.csv\", index=False)"
   ]
  },
  {
   "cell_type": "code",
   "execution_count": 19,
   "id": "9808571f",
   "metadata": {},
   "outputs": [],
   "source": [
    "# remove the first 2 words if the review is verified, otherwise remove the first word\n",
    "df['review'] = df.apply(lambda x: ' '.join(x['review'].split()[2:]) if x['verified'] == 1 else ' '.join(x['review'].split()[1:]), axis=1)\n",
    "df.to_csv(\"sentiment_british_airways_reviews.csv\", index=False)"
   ]
  },
  {
   "cell_type": "code",
   "execution_count": 20,
   "id": "aafe9f9a",
   "metadata": {},
   "outputs": [],
   "source": [
    "ba = pd.read_csv(\"british_airways_reviews.csv\")\n",
    "ba['sentiment'] = ba['review'].apply(sentiment_analysis)"
   ]
  },
  {
   "cell_type": "code",
   "execution_count": 21,
   "id": "e27074c7",
   "metadata": {},
   "outputs": [
    {
     "name": "stdout",
     "output_type": "stream",
     "text": [
      "                                              review  sentiment\n",
      "0  ✅ Trip Verified |  The airline lost my luggage...  -0.111979\n",
      "1  ✅ Trip Verified |  We booked on the BA website...   0.095685\n",
      "2  ✅ Trip Verified |  First time flying with BA b...   0.083333\n",
      "3  Not Verified | You can buy sandwiches and cris...   0.025000\n",
      "4  ✅ Trip Verified |  This is a two-for-one revie...   0.284608\n"
     ]
    }
   ],
   "source": [
    "print(ba.head())\n",
    "ba.to_csv(\"british_airways_reviews.csv\", index=False)"
   ]
  },
  {
   "cell_type": "code",
   "execution_count": 22,
   "id": "66c7676d",
   "metadata": {},
   "outputs": [
    {
     "data": {
      "text/html": [
       "<div>\n",
       "<style scoped>\n",
       "    .dataframe tbody tr th:only-of-type {\n",
       "        vertical-align: middle;\n",
       "    }\n",
       "\n",
       "    .dataframe tbody tr th {\n",
       "        vertical-align: top;\n",
       "    }\n",
       "\n",
       "    .dataframe thead th {\n",
       "        text-align: right;\n",
       "    }\n",
       "</style>\n",
       "<table border=\"1\" class=\"dataframe\">\n",
       "  <thead>\n",
       "    <tr style=\"text-align: right;\">\n",
       "      <th></th>\n",
       "      <th>review</th>\n",
       "      <th>sentiment</th>\n",
       "      <th>verified</th>\n",
       "    </tr>\n",
       "  </thead>\n",
       "  <tbody>\n",
       "    <tr>\n",
       "      <th>0</th>\n",
       "      <td>airline lost luggage absolutely awful througho...</td>\n",
       "      <td>-0.111979</td>\n",
       "      <td>1</td>\n",
       "    </tr>\n",
       "    <tr>\n",
       "      <th>1</th>\n",
       "      <td>booked ba website round trip flights seattle a...</td>\n",
       "      <td>0.103045</td>\n",
       "      <td>1</td>\n",
       "    </tr>\n",
       "    <tr>\n",
       "      <th>2</th>\n",
       "      <td>first time flying ba business class never boar...</td>\n",
       "      <td>0.125000</td>\n",
       "      <td>1</td>\n",
       "    </tr>\n",
       "    <tr>\n",
       "      <th>3</th>\n",
       "      <td>buy sandwiches crisps dont expect hot meal pla...</td>\n",
       "      <td>0.025000</td>\n",
       "      <td>0</td>\n",
       "    </tr>\n",
       "    <tr>\n",
       "      <th>4</th>\n",
       "      <td>twoforone review covering economy business cla...</td>\n",
       "      <td>0.300556</td>\n",
       "      <td>1</td>\n",
       "    </tr>\n",
       "  </tbody>\n",
       "</table>\n",
       "</div>"
      ],
      "text/plain": [
       "                                              review  sentiment  verified\n",
       "0  airline lost luggage absolutely awful througho...  -0.111979         1\n",
       "1  booked ba website round trip flights seattle a...   0.103045         1\n",
       "2  first time flying ba business class never boar...   0.125000         1\n",
       "3  buy sandwiches crisps dont expect hot meal pla...   0.025000         0\n",
       "4  twoforone review covering economy business cla...   0.300556         1"
      ]
     },
     "execution_count": 22,
     "metadata": {},
     "output_type": "execute_result"
    }
   ],
   "source": [
    "df.head()"
   ]
  },
  {
   "attachments": {},
   "cell_type": "markdown",
   "id": "14981bae",
   "metadata": {},
   "source": [
    "### Creating a topic column"
   ]
  },
  {
   "cell_type": "code",
   "execution_count": 23,
   "id": "abfedbee",
   "metadata": {},
   "outputs": [],
   "source": [
    "# Vectorize the reviews\n",
    "from sklearn.feature_extraction.text import CountVectorizer\n",
    "from sklearn.decomposition import LatentDirichletAllocation\n",
    "\n",
    "vectorizer = CountVectorizer(max_df=0.9, min_df=25, token_pattern='\\w+|\\$[\\d\\.]+|\\S+')\n",
    "tf_matrix = vectorizer.fit_transform(df['review'])\n",
    "tf_feature_names = vectorizer.get_feature_names_out()"
   ]
  },
  {
   "cell_type": "code",
   "execution_count": 24,
   "id": "1378690f",
   "metadata": {},
   "outputs": [
    {
     "data": {
      "text/html": [
       "<style>#sk-container-id-1 {color: black;background-color: white;}#sk-container-id-1 pre{padding: 0;}#sk-container-id-1 div.sk-toggleable {background-color: white;}#sk-container-id-1 label.sk-toggleable__label {cursor: pointer;display: block;width: 100%;margin-bottom: 0;padding: 0.3em;box-sizing: border-box;text-align: center;}#sk-container-id-1 label.sk-toggleable__label-arrow:before {content: \"▸\";float: left;margin-right: 0.25em;color: #696969;}#sk-container-id-1 label.sk-toggleable__label-arrow:hover:before {color: black;}#sk-container-id-1 div.sk-estimator:hover label.sk-toggleable__label-arrow:before {color: black;}#sk-container-id-1 div.sk-toggleable__content {max-height: 0;max-width: 0;overflow: hidden;text-align: left;background-color: #f0f8ff;}#sk-container-id-1 div.sk-toggleable__content pre {margin: 0.2em;color: black;border-radius: 0.25em;background-color: #f0f8ff;}#sk-container-id-1 input.sk-toggleable__control:checked~div.sk-toggleable__content {max-height: 200px;max-width: 100%;overflow: auto;}#sk-container-id-1 input.sk-toggleable__control:checked~label.sk-toggleable__label-arrow:before {content: \"▾\";}#sk-container-id-1 div.sk-estimator input.sk-toggleable__control:checked~label.sk-toggleable__label {background-color: #d4ebff;}#sk-container-id-1 div.sk-label input.sk-toggleable__control:checked~label.sk-toggleable__label {background-color: #d4ebff;}#sk-container-id-1 input.sk-hidden--visually {border: 0;clip: rect(1px 1px 1px 1px);clip: rect(1px, 1px, 1px, 1px);height: 1px;margin: -1px;overflow: hidden;padding: 0;position: absolute;width: 1px;}#sk-container-id-1 div.sk-estimator {font-family: monospace;background-color: #f0f8ff;border: 1px dotted black;border-radius: 0.25em;box-sizing: border-box;margin-bottom: 0.5em;}#sk-container-id-1 div.sk-estimator:hover {background-color: #d4ebff;}#sk-container-id-1 div.sk-parallel-item::after {content: \"\";width: 100%;border-bottom: 1px solid gray;flex-grow: 1;}#sk-container-id-1 div.sk-label:hover label.sk-toggleable__label {background-color: #d4ebff;}#sk-container-id-1 div.sk-serial::before {content: \"\";position: absolute;border-left: 1px solid gray;box-sizing: border-box;top: 0;bottom: 0;left: 50%;z-index: 0;}#sk-container-id-1 div.sk-serial {display: flex;flex-direction: column;align-items: center;background-color: white;padding-right: 0.2em;padding-left: 0.2em;position: relative;}#sk-container-id-1 div.sk-item {position: relative;z-index: 1;}#sk-container-id-1 div.sk-parallel {display: flex;align-items: stretch;justify-content: center;background-color: white;position: relative;}#sk-container-id-1 div.sk-item::before, #sk-container-id-1 div.sk-parallel-item::before {content: \"\";position: absolute;border-left: 1px solid gray;box-sizing: border-box;top: 0;bottom: 0;left: 50%;z-index: -1;}#sk-container-id-1 div.sk-parallel-item {display: flex;flex-direction: column;z-index: 1;position: relative;background-color: white;}#sk-container-id-1 div.sk-parallel-item:first-child::after {align-self: flex-end;width: 50%;}#sk-container-id-1 div.sk-parallel-item:last-child::after {align-self: flex-start;width: 50%;}#sk-container-id-1 div.sk-parallel-item:only-child::after {width: 0;}#sk-container-id-1 div.sk-dashed-wrapped {border: 1px dashed gray;margin: 0 0.4em 0.5em 0.4em;box-sizing: border-box;padding-bottom: 0.4em;background-color: white;}#sk-container-id-1 div.sk-label label {font-family: monospace;font-weight: bold;display: inline-block;line-height: 1.2em;}#sk-container-id-1 div.sk-label-container {text-align: center;}#sk-container-id-1 div.sk-container {/* jupyter's `normalize.less` sets `[hidden] { display: none; }` but bootstrap.min.css set `[hidden] { display: none !important; }` so we also need the `!important` here to be able to override the default hidden behavior on the sphinx rendered scikit-learn.org. See: https://github.com/scikit-learn/scikit-learn/issues/21755 */display: inline-block !important;position: relative;}#sk-container-id-1 div.sk-text-repr-fallback {display: none;}</style><div id=\"sk-container-id-1\" class=\"sk-top-container\"><div class=\"sk-text-repr-fallback\"><pre>LatentDirichletAllocation(random_state=0)</pre><b>In a Jupyter environment, please rerun this cell to show the HTML representation or trust the notebook. <br />On GitHub, the HTML representation is unable to render, please try loading this page with nbviewer.org.</b></div><div class=\"sk-container\" hidden><div class=\"sk-item\"><div class=\"sk-estimator sk-toggleable\"><input class=\"sk-toggleable__control sk-hidden--visually\" id=\"sk-estimator-id-1\" type=\"checkbox\" checked><label for=\"sk-estimator-id-1\" class=\"sk-toggleable__label sk-toggleable__label-arrow\">LatentDirichletAllocation</label><div class=\"sk-toggleable__content\"><pre>LatentDirichletAllocation(random_state=0)</pre></div></div></div></div></div>"
      ],
      "text/plain": [
       "LatentDirichletAllocation(random_state=0)"
      ]
     },
     "execution_count": 24,
     "metadata": {},
     "output_type": "execute_result"
    }
   ],
   "source": [
    "number_of_topics = 10\n",
    "lda_model = LatentDirichletAllocation(n_components=number_of_topics, random_state=0)\n",
    "lda_model.fit(tf_matrix)"
   ]
  },
  {
   "cell_type": "code",
   "execution_count": 25,
   "id": "6e5d2dca",
   "metadata": {},
   "outputs": [],
   "source": [
    "# Assign topics to reviews\n",
    "topic_assignments = lda_model.transform(tf_matrix).argmax(axis=1)\n",
    "df['topic'] = topic_assignments"
   ]
  },
  {
   "cell_type": "code",
   "execution_count": 26,
   "id": "a9cdd675",
   "metadata": {},
   "outputs": [
    {
     "data": {
      "text/html": [
       "<div>\n",
       "<style scoped>\n",
       "    .dataframe tbody tr th:only-of-type {\n",
       "        vertical-align: middle;\n",
       "    }\n",
       "\n",
       "    .dataframe tbody tr th {\n",
       "        vertical-align: top;\n",
       "    }\n",
       "\n",
       "    .dataframe thead th {\n",
       "        text-align: right;\n",
       "    }\n",
       "</style>\n",
       "<table border=\"1\" class=\"dataframe\">\n",
       "  <thead>\n",
       "    <tr style=\"text-align: right;\">\n",
       "      <th></th>\n",
       "      <th>review</th>\n",
       "      <th>sentiment</th>\n",
       "      <th>verified</th>\n",
       "      <th>topic</th>\n",
       "    </tr>\n",
       "  </thead>\n",
       "  <tbody>\n",
       "    <tr>\n",
       "      <th>0</th>\n",
       "      <td>airline lost luggage absolutely awful througho...</td>\n",
       "      <td>-0.111979</td>\n",
       "      <td>1</td>\n",
       "      <td>4</td>\n",
       "    </tr>\n",
       "    <tr>\n",
       "      <th>1</th>\n",
       "      <td>booked ba website round trip flights seattle a...</td>\n",
       "      <td>0.103045</td>\n",
       "      <td>1</td>\n",
       "      <td>6</td>\n",
       "    </tr>\n",
       "    <tr>\n",
       "      <th>2</th>\n",
       "      <td>first time flying ba business class never boar...</td>\n",
       "      <td>0.125000</td>\n",
       "      <td>1</td>\n",
       "      <td>2</td>\n",
       "    </tr>\n",
       "    <tr>\n",
       "      <th>3</th>\n",
       "      <td>buy sandwiches crisps dont expect hot meal pla...</td>\n",
       "      <td>0.025000</td>\n",
       "      <td>0</td>\n",
       "      <td>5</td>\n",
       "    </tr>\n",
       "    <tr>\n",
       "      <th>4</th>\n",
       "      <td>twoforone review covering economy business cla...</td>\n",
       "      <td>0.300556</td>\n",
       "      <td>1</td>\n",
       "      <td>2</td>\n",
       "    </tr>\n",
       "  </tbody>\n",
       "</table>\n",
       "</div>"
      ],
      "text/plain": [
       "                                              review  sentiment  verified  \\\n",
       "0  airline lost luggage absolutely awful througho...  -0.111979         1   \n",
       "1  booked ba website round trip flights seattle a...   0.103045         1   \n",
       "2  first time flying ba business class never boar...   0.125000         1   \n",
       "3  buy sandwiches crisps dont expect hot meal pla...   0.025000         0   \n",
       "4  twoforone review covering economy business cla...   0.300556         1   \n",
       "\n",
       "   topic  \n",
       "0      4  \n",
       "1      6  \n",
       "2      2  \n",
       "3      5  \n",
       "4      2  "
      ]
     },
     "execution_count": 26,
     "metadata": {},
     "output_type": "execute_result"
    }
   ],
   "source": [
    "df.to_csv(\"topic_british_airways_reviews.csv\", index=False)\n",
    "df.head()"
   ]
  },
  {
   "cell_type": "code",
   "execution_count": 27,
   "id": "c8cd5dba",
   "metadata": {},
   "outputs": [
    {
     "data": {
      "text/html": [
       "<div>\n",
       "<style scoped>\n",
       "    .dataframe tbody tr th:only-of-type {\n",
       "        vertical-align: middle;\n",
       "    }\n",
       "\n",
       "    .dataframe tbody tr th {\n",
       "        vertical-align: top;\n",
       "    }\n",
       "\n",
       "    .dataframe thead th {\n",
       "        text-align: right;\n",
       "    }\n",
       "</style>\n",
       "<table border=\"1\" class=\"dataframe\">\n",
       "  <thead>\n",
       "    <tr style=\"text-align: right;\">\n",
       "      <th></th>\n",
       "      <th>review</th>\n",
       "      <th>sentiment</th>\n",
       "      <th>verified</th>\n",
       "      <th>topic</th>\n",
       "    </tr>\n",
       "  </thead>\n",
       "  <tbody>\n",
       "    <tr>\n",
       "      <th>0</th>\n",
       "      <td>airline lost luggage absolutely awful througho...</td>\n",
       "      <td>-0.111979</td>\n",
       "      <td>1</td>\n",
       "      <td>4</td>\n",
       "    </tr>\n",
       "    <tr>\n",
       "      <th>1</th>\n",
       "      <td>booked ba website round trip flights seattle a...</td>\n",
       "      <td>0.095685</td>\n",
       "      <td>1</td>\n",
       "      <td>6</td>\n",
       "    </tr>\n",
       "    <tr>\n",
       "      <th>2</th>\n",
       "      <td>first time flying ba business class never boar...</td>\n",
       "      <td>0.083333</td>\n",
       "      <td>1</td>\n",
       "      <td>2</td>\n",
       "    </tr>\n",
       "    <tr>\n",
       "      <th>3</th>\n",
       "      <td>buy sandwiches crisps dont expect hot meal pla...</td>\n",
       "      <td>0.025000</td>\n",
       "      <td>0</td>\n",
       "      <td>5</td>\n",
       "    </tr>\n",
       "    <tr>\n",
       "      <th>4</th>\n",
       "      <td>twoforone review covering economy business cla...</td>\n",
       "      <td>0.284608</td>\n",
       "      <td>1</td>\n",
       "      <td>2</td>\n",
       "    </tr>\n",
       "  </tbody>\n",
       "</table>\n",
       "</div>"
      ],
      "text/plain": [
       "                                              review  sentiment  verified  \\\n",
       "0  airline lost luggage absolutely awful througho...  -0.111979         1   \n",
       "1  booked ba website round trip flights seattle a...   0.095685         1   \n",
       "2  first time flying ba business class never boar...   0.083333         1   \n",
       "3  buy sandwiches crisps dont expect hot meal pla...   0.025000         0   \n",
       "4  twoforone review covering economy business cla...   0.284608         1   \n",
       "\n",
       "   topic  \n",
       "0      4  \n",
       "1      6  \n",
       "2      2  \n",
       "3      5  \n",
       "4      2  "
      ]
     },
     "execution_count": 27,
     "metadata": {},
     "output_type": "execute_result"
    }
   ],
   "source": [
    "df2 = pd.read_csv(\"british_airways_reviews.csv\")\n",
    "df['sentiment'] = df2['sentiment']\n",
    "df.head()"
   ]
  },
  {
   "attachments": {},
   "cell_type": "markdown",
   "id": "29f14f85",
   "metadata": {},
   "source": [
    "### Sentiment label logic:\n",
    "\n",
    "- Negative if it had lower sentiment score than 0.09\n",
    "- Neutral if the score was > 0.09 and < 0.1\n",
    "- Positive if the score was > 0.1"
   ]
  },
  {
   "cell_type": "code",
   "execution_count": 28,
   "id": "e33c68d6",
   "metadata": {},
   "outputs": [
    {
     "data": {
      "text/html": [
       "<div>\n",
       "<style scoped>\n",
       "    .dataframe tbody tr th:only-of-type {\n",
       "        vertical-align: middle;\n",
       "    }\n",
       "\n",
       "    .dataframe tbody tr th {\n",
       "        vertical-align: top;\n",
       "    }\n",
       "\n",
       "    .dataframe thead th {\n",
       "        text-align: right;\n",
       "    }\n",
       "</style>\n",
       "<table border=\"1\" class=\"dataframe\">\n",
       "  <thead>\n",
       "    <tr style=\"text-align: right;\">\n",
       "      <th></th>\n",
       "      <th>review</th>\n",
       "      <th>sentiment</th>\n",
       "      <th>verified</th>\n",
       "      <th>topic</th>\n",
       "      <th>sentiment_mostly</th>\n",
       "    </tr>\n",
       "  </thead>\n",
       "  <tbody>\n",
       "    <tr>\n",
       "      <th>0</th>\n",
       "      <td>airline lost luggage absolutely awful througho...</td>\n",
       "      <td>-0.111979</td>\n",
       "      <td>1</td>\n",
       "      <td>4</td>\n",
       "      <td>negative</td>\n",
       "    </tr>\n",
       "    <tr>\n",
       "      <th>1</th>\n",
       "      <td>booked ba website round trip flights seattle a...</td>\n",
       "      <td>0.095685</td>\n",
       "      <td>1</td>\n",
       "      <td>6</td>\n",
       "      <td>neutral</td>\n",
       "    </tr>\n",
       "    <tr>\n",
       "      <th>2</th>\n",
       "      <td>first time flying ba business class never boar...</td>\n",
       "      <td>0.083333</td>\n",
       "      <td>1</td>\n",
       "      <td>2</td>\n",
       "      <td>negative</td>\n",
       "    </tr>\n",
       "    <tr>\n",
       "      <th>3</th>\n",
       "      <td>buy sandwiches crisps dont expect hot meal pla...</td>\n",
       "      <td>0.025000</td>\n",
       "      <td>0</td>\n",
       "      <td>5</td>\n",
       "      <td>negative</td>\n",
       "    </tr>\n",
       "    <tr>\n",
       "      <th>4</th>\n",
       "      <td>twoforone review covering economy business cla...</td>\n",
       "      <td>0.284608</td>\n",
       "      <td>1</td>\n",
       "      <td>2</td>\n",
       "      <td>positive</td>\n",
       "    </tr>\n",
       "  </tbody>\n",
       "</table>\n",
       "</div>"
      ],
      "text/plain": [
       "                                              review  sentiment  verified  \\\n",
       "0  airline lost luggage absolutely awful througho...  -0.111979         1   \n",
       "1  booked ba website round trip flights seattle a...   0.095685         1   \n",
       "2  first time flying ba business class never boar...   0.083333         1   \n",
       "3  buy sandwiches crisps dont expect hot meal pla...   0.025000         0   \n",
       "4  twoforone review covering economy business cla...   0.284608         1   \n",
       "\n",
       "   topic sentiment_mostly  \n",
       "0      4         negative  \n",
       "1      6          neutral  \n",
       "2      2         negative  \n",
       "3      5         negative  \n",
       "4      2         positive  "
      ]
     },
     "execution_count": 28,
     "metadata": {},
     "output_type": "execute_result"
    }
   ],
   "source": [
    "# Add a column with the status of sentiment which can be positive, negative or neutral\n",
    "df['sentiment_mostly'] = df['sentiment'].apply(lambda x: 'positive' if x > 0.1 else ('negative' if x < 0.09 else 'neutral'))\n",
    "df.head()"
   ]
  },
  {
   "cell_type": "code",
   "execution_count": 29,
   "id": "0965c2eb",
   "metadata": {},
   "outputs": [],
   "source": [
    "# Getting top words for each topic\n",
    "def get_top_words_for_topics(lda_model, feature_names, n_top_words=5):\n",
    "    top_words = {}\n",
    "    for topic_idx, topic in enumerate(lda_model.components_):\n",
    "        top_words[topic_idx] = [feature_names[i] for i in topic.argsort()[:-n_top_words - 1:-1]]\n",
    "    return top_words"
   ]
  },
  {
   "cell_type": "code",
   "execution_count": 30,
   "id": "a69fb445",
   "metadata": {},
   "outputs": [],
   "source": [
    "# Get the top words for each topic using the get_top_words_for_topics function\n",
    "top_words = get_top_words_for_topics(lda_model, tf_feature_names)"
   ]
  },
  {
   "cell_type": "code",
   "execution_count": 31,
   "id": "6e40297d",
   "metadata": {},
   "outputs": [],
   "source": [
    "# Create a function to generate a label for each topic\n",
    "def generate_topic_label(topic_number, top_words):\n",
    "    return '-'.join(top_words[topic_number])\n",
    "df['topic_label'] = df['topic'].apply(lambda x: generate_topic_label(x, top_words))"
   ]
  },
  {
   "cell_type": "code",
   "execution_count": 32,
   "id": "9d06ea0d",
   "metadata": {},
   "outputs": [
    {
     "data": {
      "text/html": [
       "<div>\n",
       "<style scoped>\n",
       "    .dataframe tbody tr th:only-of-type {\n",
       "        vertical-align: middle;\n",
       "    }\n",
       "\n",
       "    .dataframe tbody tr th {\n",
       "        vertical-align: top;\n",
       "    }\n",
       "\n",
       "    .dataframe thead th {\n",
       "        text-align: right;\n",
       "    }\n",
       "</style>\n",
       "<table border=\"1\" class=\"dataframe\">\n",
       "  <thead>\n",
       "    <tr style=\"text-align: right;\">\n",
       "      <th></th>\n",
       "      <th>review</th>\n",
       "      <th>sentiment</th>\n",
       "      <th>verified</th>\n",
       "      <th>topic</th>\n",
       "      <th>sentiment_mostly</th>\n",
       "      <th>topic_label</th>\n",
       "    </tr>\n",
       "  </thead>\n",
       "  <tbody>\n",
       "    <tr>\n",
       "      <th>0</th>\n",
       "      <td>airline lost luggage absolutely awful througho...</td>\n",
       "      <td>-0.111979</td>\n",
       "      <td>1</td>\n",
       "      <td>4</td>\n",
       "      <td>negative</td>\n",
       "      <td>flight-ba-us-hours-london</td>\n",
       "    </tr>\n",
       "    <tr>\n",
       "      <th>1</th>\n",
       "      <td>booked ba website round trip flights seattle a...</td>\n",
       "      <td>0.095685</td>\n",
       "      <td>1</td>\n",
       "      <td>6</td>\n",
       "      <td>neutral</td>\n",
       "      <td>airways-british-ba-flight-seats</td>\n",
       "    </tr>\n",
       "    <tr>\n",
       "      <th>2</th>\n",
       "      <td>first time flying ba business class never boar...</td>\n",
       "      <td>0.083333</td>\n",
       "      <td>1</td>\n",
       "      <td>2</td>\n",
       "      <td>negative</td>\n",
       "      <td>class-business-ba-first-food</td>\n",
       "    </tr>\n",
       "    <tr>\n",
       "      <th>3</th>\n",
       "      <td>buy sandwiches crisps dont expect hot meal pla...</td>\n",
       "      <td>0.025000</td>\n",
       "      <td>0</td>\n",
       "      <td>5</td>\n",
       "      <td>negative</td>\n",
       "      <td>meal-economy-cabin-food-would</td>\n",
       "    </tr>\n",
       "    <tr>\n",
       "      <th>4</th>\n",
       "      <td>twoforone review covering economy business cla...</td>\n",
       "      <td>0.284608</td>\n",
       "      <td>1</td>\n",
       "      <td>2</td>\n",
       "      <td>positive</td>\n",
       "      <td>class-business-ba-first-food</td>\n",
       "    </tr>\n",
       "  </tbody>\n",
       "</table>\n",
       "</div>"
      ],
      "text/plain": [
       "                                              review  sentiment  verified  \\\n",
       "0  airline lost luggage absolutely awful througho...  -0.111979         1   \n",
       "1  booked ba website round trip flights seattle a...   0.095685         1   \n",
       "2  first time flying ba business class never boar...   0.083333         1   \n",
       "3  buy sandwiches crisps dont expect hot meal pla...   0.025000         0   \n",
       "4  twoforone review covering economy business cla...   0.284608         1   \n",
       "\n",
       "   topic sentiment_mostly                      topic_label  \n",
       "0      4         negative        flight-ba-us-hours-london  \n",
       "1      6          neutral  airways-british-ba-flight-seats  \n",
       "2      2         negative     class-business-ba-first-food  \n",
       "3      5         negative    meal-economy-cabin-food-would  \n",
       "4      2         positive     class-business-ba-first-food  "
      ]
     },
     "execution_count": 32,
     "metadata": {},
     "output_type": "execute_result"
    }
   ],
   "source": [
    "df.head()"
   ]
  },
  {
   "cell_type": "code",
   "execution_count": 33,
   "id": "797d354c",
   "metadata": {},
   "outputs": [],
   "source": [
    "df.to_csv(\"topic_british_airways_reviews.csv\", index=False)"
   ]
  },
  {
   "attachments": {},
   "cell_type": "markdown",
   "id": "c8c731f0",
   "metadata": {},
   "source": [
    "### It seem like models are struggling with classifying reviews into topic so we have to remove the columns since they don't really make any sense"
   ]
  },
  {
   "cell_type": "code",
   "execution_count": 34,
   "id": "48d2a689",
   "metadata": {},
   "outputs": [
    {
     "data": {
      "text/html": [
       "<div>\n",
       "<style scoped>\n",
       "    .dataframe tbody tr th:only-of-type {\n",
       "        vertical-align: middle;\n",
       "    }\n",
       "\n",
       "    .dataframe tbody tr th {\n",
       "        vertical-align: top;\n",
       "    }\n",
       "\n",
       "    .dataframe thead th {\n",
       "        text-align: right;\n",
       "    }\n",
       "</style>\n",
       "<table border=\"1\" class=\"dataframe\">\n",
       "  <thead>\n",
       "    <tr style=\"text-align: right;\">\n",
       "      <th></th>\n",
       "      <th>review</th>\n",
       "      <th>sentiment</th>\n",
       "      <th>verified</th>\n",
       "      <th>sentiment_mostly</th>\n",
       "    </tr>\n",
       "  </thead>\n",
       "  <tbody>\n",
       "    <tr>\n",
       "      <th>0</th>\n",
       "      <td>airline lost luggage absolutely awful througho...</td>\n",
       "      <td>-0.111979</td>\n",
       "      <td>1</td>\n",
       "      <td>negative</td>\n",
       "    </tr>\n",
       "    <tr>\n",
       "      <th>1</th>\n",
       "      <td>booked ba website round trip flights seattle a...</td>\n",
       "      <td>0.095685</td>\n",
       "      <td>1</td>\n",
       "      <td>neutral</td>\n",
       "    </tr>\n",
       "    <tr>\n",
       "      <th>2</th>\n",
       "      <td>first time flying ba business class never boar...</td>\n",
       "      <td>0.083333</td>\n",
       "      <td>1</td>\n",
       "      <td>negative</td>\n",
       "    </tr>\n",
       "    <tr>\n",
       "      <th>3</th>\n",
       "      <td>buy sandwiches crisps dont expect hot meal pla...</td>\n",
       "      <td>0.025000</td>\n",
       "      <td>0</td>\n",
       "      <td>negative</td>\n",
       "    </tr>\n",
       "    <tr>\n",
       "      <th>4</th>\n",
       "      <td>twoforone review covering economy business cla...</td>\n",
       "      <td>0.284608</td>\n",
       "      <td>1</td>\n",
       "      <td>positive</td>\n",
       "    </tr>\n",
       "  </tbody>\n",
       "</table>\n",
       "</div>"
      ],
      "text/plain": [
       "                                              review  sentiment  verified  \\\n",
       "0  airline lost luggage absolutely awful througho...  -0.111979         1   \n",
       "1  booked ba website round trip flights seattle a...   0.095685         1   \n",
       "2  first time flying ba business class never boar...   0.083333         1   \n",
       "3  buy sandwiches crisps dont expect hot meal pla...   0.025000         0   \n",
       "4  twoforone review covering economy business cla...   0.284608         1   \n",
       "\n",
       "  sentiment_mostly  \n",
       "0         negative  \n",
       "1          neutral  \n",
       "2         negative  \n",
       "3         negative  \n",
       "4         positive  "
      ]
     },
     "execution_count": 34,
     "metadata": {},
     "output_type": "execute_result"
    }
   ],
   "source": [
    "# Remove the columns topic and topic_label\n",
    "df.drop(columns=['topic', 'topic_label'], inplace=True)\n",
    "df.head()"
   ]
  },
  {
   "cell_type": "code",
   "execution_count": 35,
   "id": "b4a8d51d",
   "metadata": {},
   "outputs": [],
   "source": [
    "# pip install gensim"
   ]
  },
  {
   "cell_type": "code",
   "execution_count": 36,
   "id": "0407eb67",
   "metadata": {},
   "outputs": [
    {
     "data": {
      "text/html": [
       "<div>\n",
       "<style scoped>\n",
       "    .dataframe tbody tr th:only-of-type {\n",
       "        vertical-align: middle;\n",
       "    }\n",
       "\n",
       "    .dataframe tbody tr th {\n",
       "        vertical-align: top;\n",
       "    }\n",
       "\n",
       "    .dataframe thead th {\n",
       "        text-align: right;\n",
       "    }\n",
       "</style>\n",
       "<table border=\"1\" class=\"dataframe\">\n",
       "  <thead>\n",
       "    <tr style=\"text-align: right;\">\n",
       "      <th></th>\n",
       "      <th>sentiment</th>\n",
       "      <th>verified</th>\n",
       "    </tr>\n",
       "  </thead>\n",
       "  <tbody>\n",
       "    <tr>\n",
       "      <th>count</th>\n",
       "      <td>3575.000000</td>\n",
       "      <td>3575.000000</td>\n",
       "    </tr>\n",
       "    <tr>\n",
       "      <th>mean</th>\n",
       "      <td>0.093642</td>\n",
       "      <td>0.299301</td>\n",
       "    </tr>\n",
       "    <tr>\n",
       "      <th>std</th>\n",
       "      <td>0.179147</td>\n",
       "      <td>0.458016</td>\n",
       "    </tr>\n",
       "    <tr>\n",
       "      <th>min</th>\n",
       "      <td>-0.766667</td>\n",
       "      <td>0.000000</td>\n",
       "    </tr>\n",
       "    <tr>\n",
       "      <th>25%</th>\n",
       "      <td>-0.017956</td>\n",
       "      <td>0.000000</td>\n",
       "    </tr>\n",
       "    <tr>\n",
       "      <th>50%</th>\n",
       "      <td>0.082778</td>\n",
       "      <td>0.000000</td>\n",
       "    </tr>\n",
       "    <tr>\n",
       "      <th>75%</th>\n",
       "      <td>0.202999</td>\n",
       "      <td>1.000000</td>\n",
       "    </tr>\n",
       "    <tr>\n",
       "      <th>max</th>\n",
       "      <td>0.800000</td>\n",
       "      <td>1.000000</td>\n",
       "    </tr>\n",
       "  </tbody>\n",
       "</table>\n",
       "</div>"
      ],
      "text/plain": [
       "         sentiment     verified\n",
       "count  3575.000000  3575.000000\n",
       "mean      0.093642     0.299301\n",
       "std       0.179147     0.458016\n",
       "min      -0.766667     0.000000\n",
       "25%      -0.017956     0.000000\n",
       "50%       0.082778     0.000000\n",
       "75%       0.202999     1.000000\n",
       "max       0.800000     1.000000"
      ]
     },
     "execution_count": 36,
     "metadata": {},
     "output_type": "execute_result"
    }
   ],
   "source": [
    "df.describe()"
   ]
  },
  {
   "cell_type": "code",
   "execution_count": 37,
   "id": "9a09c349",
   "metadata": {},
   "outputs": [
    {
     "data": {
      "text/plain": [
       "0"
      ]
     },
     "execution_count": 37,
     "metadata": {},
     "output_type": "execute_result"
    }
   ],
   "source": [
    "# how many empty reviews are there?\n",
    "df['review'].isnull().sum()"
   ]
  },
  {
   "cell_type": "code",
   "execution_count": 38,
   "id": "4cf42d98",
   "metadata": {},
   "outputs": [
    {
     "data": {
      "text/plain": [
       "negative    1866\n",
       "positive    1628\n",
       "neutral       81\n",
       "Name: sentiment_mostly, dtype: int64"
      ]
     },
     "execution_count": 38,
     "metadata": {},
     "output_type": "execute_result"
    }
   ],
   "source": [
    "df['sentiment_mostly'].value_counts()"
   ]
  },
  {
   "cell_type": "code",
   "execution_count": 39,
   "id": "13da052b",
   "metadata": {},
   "outputs": [
    {
     "data": {
      "text/plain": [
       "0.09364195873204459"
      ]
     },
     "execution_count": 39,
     "metadata": {},
     "output_type": "execute_result"
    }
   ],
   "source": [
    "# Average sentiment of the reviews\n",
    "df['sentiment'].mean()"
   ]
  },
  {
   "cell_type": "code",
   "execution_count": 40,
   "id": "cb27ae78",
   "metadata": {},
   "outputs": [
    {
     "data": {
      "image/png": "[encoded data removed]",
      "text/plain": [
       "<Figure size 1000x600 with 1 Axes>"
      ]
     },
     "metadata": {},
     "output_type": "display_data"
    }
   ],
   "source": [
    "import matplotlib.pyplot as plt\n",
    "import seaborn as sns\n",
    "\n",
    "# Set the seaborn style\n",
    "sns.set_style(\"whitegrid\")\n",
    "\n",
    "# Create the histogram\n",
    "plt.figure(figsize=(10, 6))\n",
    "sns.histplot(df['sentiment'], bins=40, kde=True, color='blue', linewidth=1, edgecolor='black')\n",
    "\n",
    "plt.xlabel('Sentiment Score')\n",
    "plt.ylabel('Frequency')\n",
    "plt.title('Sentiment Distribution')\n",
    "\n",
    "# Remove the top and right spines\n",
    "sns.despine()\n",
    "\n",
    "plt.show()"
   ]
  },
  {
   "attachments": {},
   "cell_type": "markdown",
   "id": "0c2a757b",
   "metadata": {},
   "source": [
    "Based on the sentiment distribution histogram, where most of the reviews are between -0.1 and 0.2 with a peak at 0.05, we can draw the following analytics:\n",
    "\n",
    "Overall Sentiment: The sentiment distribution indicates that the majority of reviews fall within the range of -0.1 to 0.2, suggesting a generally mixed sentiment towards British Airways. This range includes both positive and negative sentiments.\n",
    "\n",
    "Positive Reviews: Reviews with sentiment values greater than 0.1 can be considered positive based on the sentiment label logic. Although the histogram doesn't provide specific counts for positive sentiment ranges, we can infer that there is a presence of positive sentiment based on the broader distribution.\n",
    "\n",
    "Negative Reviews: Reviews with sentiment values less than 0.09 can be considered negative based on the sentiment label logic. While we cannot precisely determine the count, we can infer that there is a presence of negative sentiment based on the broader distribution."
   ]
  },
  {
   "cell_type": "code",
   "execution_count": 41,
   "id": "a4f5b4e7",
   "metadata": {},
   "outputs": [
    {
     "data": {
      "image/png": "[encoded data removed]",
      "text/plain": [
       "<Figure size 800x600 with 1 Axes>"
      ]
     },
     "metadata": {},
     "output_type": "display_data"
    }
   ],
   "source": [
    "# Set a style and color palette for the plot\n",
    "sns.set(style=\"whitegrid\")\n",
    "\n",
    "# Change the color of the positive bars to green\n",
    "palette = sns.color_palette()\n",
    "# Deep red\n",
    "palette[0] = (0.9215686274509803, 0.23137254901960785, 0.29411764705882354)\n",
    "# Deep green\n",
    "palette[1] = (0.09019607843137255, 0.7450980392156863, 0.6078431372549019)\n",
    "# Deep blue\n",
    "palette[2] = (0.29411764705882354, 0.5098039215686274, 0.7843137254901961)\n",
    "\n",
    "# Get sentiment classification counts\n",
    "sentiment_counts = df['sentiment_mostly'].value_counts()\n",
    "\n",
    "# Create the bar plot\n",
    "fig, ax = plt.subplots(figsize=(8, 6))\n",
    "sns.barplot(x=sentiment_counts.index, y=sentiment_counts.values, palette=palette, ax=ax)\n",
    "\n",
    "# Customize the plot appearance\n",
    "ax.set_ylabel('Frequency', fontsize=14)\n",
    "ax.set_title('Sentiment Classification Distribution', fontsize=16)\n",
    "\n",
    "# Remove the top and right spines\n",
    "sns.despine(ax=ax)\n",
    "\n",
    "# Add data labels on top of each bar\n",
    "for i, count in enumerate(sentiment_counts.values):\n",
    "    ax.text(i, count + 3, count, ha='center', fontsize=12)\n",
    "\n",
    "plt.show()"
   ]
  },
  {
   "attachments": {},
   "cell_type": "markdown",
   "id": "7c3e056b",
   "metadata": {},
   "source": [
    "Based on the bar plot of sentiment classification distribution, we can derive the following analytics:\n",
    "\n",
    "Negative Reviews: The bar plot shows that 1866 reviews have been classified as negative. These reviews likely contain criticisms, complaints, or negative experiences related to British Airways.\n",
    "\n",
    "Positive Reviews: The bar plot indicates that 1628 reviews have been classified as positive. These reviews are likely to contain positive feedback, praises, or satisfied experiences with British Airways.\n",
    "\n",
    "Neutral Reviews: The bar plot reveals that 61 reviews have been classified as neutral. These reviews neither strongly express positive nor negative sentiment towards British Airways.\n",
    "\n",
    "Imbalanced Distribution: From the given information, we can observe that the number of negative reviews is higher than the positive reviews. This suggests a potential imbalance in sentiment classifications, indicating a larger proportion of negative sentiment in the dataset.\n",
    "\n",
    "Analyzing the sentiment classification distribution provides an overview of the sentiment distribution in the dataset. However, it is important to note that these numbers are based on the provided classification and may not reflect the sentiments of all the reviews accurately."
   ]
  },
  {
   "cell_type": "code",
   "execution_count": 42,
   "id": "d3816fb5",
   "metadata": {},
   "outputs": [
    {
     "data": {
      "image/png": "[encoded data removed]",
      "text/plain": [
       "<Figure size 1000x600 with 1 Axes>"
      ]
     },
     "metadata": {},
     "output_type": "display_data"
    }
   ],
   "source": [
    "# Set a style and color palette for the plot\n",
    "sns.set(style=\"whitegrid\")\n",
    "palette = sns.color_palette()\n",
    "# Ruby red\n",
    "palette[0] = (0.9215686274509803, 0.23137254901960785, 0.29411764705882354)\n",
    "# Bright green\n",
    "palette[1] = (0.09019607843137255, 0.7450980392156863, 0.6078431372549019)\n",
    "\n",
    "\n",
    "# Create the violin plot\n",
    "plt.figure(figsize=(10, 6))\n",
    "sns.violinplot(x='verified', y='sentiment', data=df, palette=palette, inner='quartile')\n",
    "\n",
    "plt.xlabel('Verified', fontsize=14)\n",
    "plt.ylabel('Sentiment Score', fontsize=14)\n",
    "plt.title('Sentiment Score Distribution by Verified Reviews', fontsize=16)\n",
    "\n",
    "# Remove the top and right spines\n",
    "sns.despine()\n",
    "\n",
    "plt.show()"
   ]
  },
  {
   "attachments": {},
   "cell_type": "markdown",
   "id": "bc8c667c",
   "metadata": {},
   "source": [
    "Based on the violin plot of sentiment score distribution by verified and unverified reviews, we can draw the following analytics:\n",
    "\n",
    "Unverified Reviews: The first figure, representing unverified reviews (marked as 0), shows that the majority of the sentiment scores are concentrated between 0.00 and 0.23. This suggests that unverified reviews tend to have slightly more positive sentiment scores overall. The range of sentiment scores for unverified reviews extends from -0.75 to 0.75, indicating a broader distribution.\n",
    "\n",
    "Verified Reviews: The second figure, representing verified reviews (marked as 1), demonstrates a similar concentration of sentiment scores between -0.09 and 0.22. While the sentiment scores for verified reviews are slightly lower compared to unverified reviews, they still exhibit a generally positive sentiment. The sentiment score range for verified reviews also extends from -0.75 to 0.75, similar to unverified reviews.\n",
    "\n",
    "Distribution Similarity: Visually, both figures appear to have similar distributions, with the concentration of sentiment scores and their ranges overlapping to a significant extent. This similarity suggests that the sentiment distributions of verified and unverified reviews are comparable, indicating that verified status may not significantly impact the sentiment expressed in the reviews.\n",
    "\n",
    "Sample Sizes: There are 2505 unverified reviews and 1070 verified reviews in the dataset, indicating that unverified reviews are more prevalent in the dataset.\n",
    "\n",
    "These findings provide insights into the sentiment score distributions and their relationships with verified and unverified reviews. It seems like the status of verification doesn't play a crucial role in determining the mood of reviews"
   ]
  },
  {
   "cell_type": "code",
   "execution_count": 43,
   "id": "776fbe89",
   "metadata": {},
   "outputs": [
    {
     "data": {
      "text/plain": [
       "0    2505\n",
       "1    1070\n",
       "Name: verified, dtype: int64"
      ]
     },
     "execution_count": 43,
     "metadata": {},
     "output_type": "execute_result"
    }
   ],
   "source": [
    "# amount of 0s in the verified column\n",
    "df['verified'].value_counts()"
   ]
  },
  {
   "attachments": {},
   "cell_type": "markdown",
   "id": "86f3a4f7",
   "metadata": {},
   "source": [
    "# Results, insights, conclusions"
   ]
  },
  {
   "attachments": {},
   "cell_type": "markdown",
   "id": "c713a26b",
   "metadata": {},
   "source": [
    "Analyzing the data frame, we have derived the following conclusions, results, and insights:\n",
    "\n",
    "### Sentiment Distribution: \n",
    "The sentiment distribution histogram reveals that the majority of reviews fall within the range of -0.1 to 0.2, indicating a mixed sentiment towards British Airways.\n",
    "\n",
    "### Sentiment Classification: \n",
    "The bar plot of sentiment classification distribution shows that 1866 reviews were classified as negative, 1628 as positive, and 61 as neutral. This indicates a higher number of negative reviews, but further analysis is needed to understand the sentiment distribution accurately.\n",
    "\n",
    "### Verified vs. Unverified Reviews: \n",
    "The violin plot comparing sentiment score distributions for verified and unverified reviews suggests similar sentiment patterns, with both types showing a concentration of sentiment scores in similar ranges. However, the dataset contains a larger number of unverified reviews.\n",
    "\n",
    "### Common Review Topics: \n",
    "The analysis of the most frequent words indicates that reviews commonly mention flights, British Airways, service, trips, seats, staff, airport, food, and crew. While these keywords give an idea of the topics discussed in the reviews, they do not provide detailed insights or sentiments associated with these aspects.\n",
    "\n",
    "### Analysis conclusion:\n",
    "The analysis provides a preliminary understanding of the sentiment distribution, sentiment classification, and common review topics."
   ]
  },
  {
   "attachments": {},
   "cell_type": "markdown",
   "id": "a452d848",
   "metadata": {},
   "source": []
  }
 ],
 "metadata": {
  "kernelspec": {
   "display_name": "Python 3 (ipykernel)",
   "language": "python",
   "name": "python3"
  },
  "language_info": {
   "codemirror_mode": {
    "name": "ipython",
    "version": 3
   },
   "file_extension": ".py",
   "mimetype": "text/x-python",
   "name": "python",
   "nbconvert_exporter": "python",
   "pygments_lexer": "ipython3",
   "version": "3.10.9"
  }
 },
 "nbformat": 4,
 "nbformat_minor": 5
}
